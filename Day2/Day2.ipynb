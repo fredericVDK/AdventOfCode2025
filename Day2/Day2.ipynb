{
 "cells": [
  {
   "cell_type": "markdown",
   "id": "30fae1ab-b8fd-48ff-9002-b74ffe29e171",
   "metadata": {},
   "source": [
    "Week 1 : Day 2"
   ]
  },
  {
   "cell_type": "code",
   "execution_count": 4,
   "id": "b24df8cb-8cb9-4976-94e1-b45723148431",
   "metadata": {},
   "outputs": [
    {
     "name": "stdout",
     "output_type": "stream",
     "text": [
      "689\n"
     ]
    }
   ],
   "source": [
    "file_path = \"input.txt\"\n",
    "all_lines = []\n",
    "counter = 0\n",
    "\n",
    "def isIncreasing(list):\n",
    "    for i in range(1, len(list)):\n",
    "        if lst[i] <= lst[i - 1]:\n",
    "            return False\n",
    "    return True\n",
    "\n",
    "def isDescending(list):\n",
    "    for i in range(1, len(list)):\n",
    "        if lst[i] >= lst[i - 1]:\n",
    "            return False\n",
    "    return True\n",
    "\n",
    "def isValidDifference(list):\n",
    "    for i in range(1, len(list)):\n",
    "        diff = abs(list[i] - list[i - 1])\n",
    "        if not (1 <= diff <= 3):\n",
    "            return False\n",
    "    return True\n",
    "\n",
    "def isSafeReport(list):\n",
    "    if isIncreasing(list) or isDescending(list):\n",
    "        if isValidDifference(list):\n",
    "            return True\n",
    "    return False\n",
    "\n",
    "with open(file_path, \"r\") as file:\n",
    "    lines = file.readlines()\n",
    "    for line in lines:\n",
    "        levels = list(map(int, line.split()))\n",
    "        all_lines.append(levels)\n",
    "\n",
    "def canBecomeSafeByRemovingOne(list):\n",
    "    for i in range(len(list)):\n",
    "        modified_lst = list[:i] + list[i + 1:]\n",
    "        if isSafeReport(modified_list):\n",
    "            return True\n",
    "    return False\n",
    "\n",
    "for ar in all_lines:\n",
    "    if isSafeReport(ar):\n",
    "        counter += 1\n",
    "    elif canBecomeSafeByRemovingOne(ar):\n",
    "        counter += 1\n",
    "\n",
    "print(counter)"
   ]
  },
  {
   "cell_type": "code",
   "execution_count": null,
   "id": "3aaaad38-1079-40bd-88e4-9354d0ede419",
   "metadata": {},
   "outputs": [],
   "source": []
  }
 ],
 "metadata": {
  "kernelspec": {
   "display_name": "Python 3 (ipykernel)",
   "language": "python",
   "name": "python3"
  },
  "language_info": {
   "codemirror_mode": {
    "name": "ipython",
    "version": 3
   },
   "file_extension": ".py",
   "mimetype": "text/x-python",
   "name": "python",
   "nbconvert_exporter": "python",
   "pygments_lexer": "ipython3",
   "version": "3.11.7"
  }
 },
 "nbformat": 4,
 "nbformat_minor": 5
}
