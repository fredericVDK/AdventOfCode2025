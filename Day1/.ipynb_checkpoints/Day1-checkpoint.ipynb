{
 "cells": [
  {
   "cell_type": "markdown",
   "id": "81bb10ab-cdda-4d3f-a834-2d6dc71805d3",
   "metadata": {},
   "source": [
    "Week 1 : Day 1 "
   ]
  },
  {
   "cell_type": "code",
   "execution_count": 1,
   "id": "3e854ea2-eb3c-4634-9fff-3ddbc546318d",
   "metadata": {},
   "outputs": [
    {
     "name": "stdout",
     "output_type": "stream",
     "text": [
      "1873376\n"
     ]
    }
   ],
   "source": [
    "file_path = \"NumbersDay1.txt\"\n",
    "left_list = []\n",
    "right_list = []\n",
    "\n",
    "with open(file_path, \"r\") as file:\n",
    "    for line in file:\n",
    "        left, right = map(int, line.split())\n",
    "        left_list.append(left)\n",
    "        right_list.append(right)"
   ]
  },
  {
   "cell_type": "code",
   "execution_count": 3,
   "id": "070f018c-5d92-415d-afc1-af168ec53668",
   "metadata": {},
   "outputs": [
    {
     "name": "stdout",
     "output_type": "stream",
     "text": [
      "1873376\n"
     ]
    }
   ],
   "source": [
    "left = sorted(left_list)\n",
    "right = sorted(right_list)\n",
    "\n",
    "sum = 0\n",
    "for i in range(len(left)):\n",
    "    number = left[i] - right[i]\n",
    "    if number < 0:\n",
    "        number = number * -1\n",
    "    sum += number\n",
    "    \n",
    "print(sum)"
   ]
  },
  {
   "cell_type": "code",
   "execution_count": 5,
   "id": "90974818-9d53-46f8-a2a7-0a5a45658021",
   "metadata": {},
   "outputs": [
    {
     "name": "stdout",
     "output_type": "stream",
     "text": [
      "18997088\n"
     ]
    }
   ],
   "source": [
    "similarity_score = 0\n",
    "for num in left_list:\n",
    "    count_in_right = right_list.count(num)\n",
    "    similarity_score += num * count_in_right\n",
    "\n",
    "print(similarity_score)"
   ]
  }
 ],
 "metadata": {
  "kernelspec": {
   "display_name": "Python 3 (ipykernel)",
   "language": "python",
   "name": "python3"
  },
  "language_info": {
   "codemirror_mode": {
    "name": "ipython",
    "version": 3
   },
   "file_extension": ".py",
   "mimetype": "text/x-python",
   "name": "python",
   "nbconvert_exporter": "python",
   "pygments_lexer": "ipython3",
   "version": "3.11.7"
  }
 },
 "nbformat": 4,
 "nbformat_minor": 5
}
