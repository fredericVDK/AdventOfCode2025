{
 "cells": [
  {
   "cell_type": "markdown",
   "id": "45a375d9-63ce-43a9-b953-74fe1940d183",
   "metadata": {},
   "source": [
    "Week1 : Day 4"
   ]
  },
  {
   "cell_type": "code",
   "execution_count": 57,
   "id": "f4fb4a77-c14f-4dc4-8003-8b08f6a91199",
   "metadata": {
    "tags": []
   },
   "outputs": [
    {
     "ename": "SyntaxError",
     "evalue": "incomplete input (396394034.py, line 15)",
     "output_type": "error",
     "traceback": [
      "\u001b[1;36m  Cell \u001b[1;32mIn[57], line 15\u001b[1;36m\u001b[0m\n\u001b[1;33m    \u001b[0m\n\u001b[1;37m    ^\u001b[0m\n\u001b[1;31mSyntaxError\u001b[0m\u001b[1;31m:\u001b[0m incomplete input\n"
     ]
    }
   ],
   "source": [
    "import re\n",
    "\n",
    "file_path = \"input.txt\"\n",
    "all_lines = []\n",
    "\n",
    "with open(file_path, \"r\") as file:\n",
    "    lines = file.readlines()\n",
    "    for line in lines:\n",
    "        levels = line\n",
    "        all_lines.append(levels)\n",
    "        \n",
    "for line in all_lines:\n",
    "    for i in range(len(line)):\n",
    "        if char.lower() == \"x\":\n",
    "          "
   ]
  },
  {
   "cell_type": "code",
   "execution_count": null,
   "id": "149ee221-9bee-4edd-bbd1-5070d233fd9d",
   "metadata": {},
   "outputs": [],
   "source": []
  }
 ],
 "metadata": {
  "kernelspec": {
   "display_name": "Python 3 (ipykernel)",
   "language": "python",
   "name": "python3"
  },
  "language_info": {
   "codemirror_mode": {
    "name": "ipython",
    "version": 3
   },
   "file_extension": ".py",
   "mimetype": "text/x-python",
   "name": "python",
   "nbconvert_exporter": "python",
   "pygments_lexer": "ipython3",
   "version": "3.11.7"
  }
 },
 "nbformat": 4,
 "nbformat_minor": 5
}
