{
 "cells": [
  {
   "cell_type": "markdown",
   "id": "45a375d9-63ce-43a9-b953-74fe1940d183",
   "metadata": {},
   "source": [
    "Week1 : Day 4"
   ]
  },
  {
   "cell_type": "code",
   "execution_count": 57,
   "id": "f4fb4a77-c14f-4dc4-8003-8b08f6a91199",
   "metadata": {
    "tags": []
   },
   "outputs": [
    {
     "ename": "SyntaxError",
     "evalue": "incomplete input (396394034.py, line 15)",
     "output_type": "error",
     "traceback": [
      "\u001b[1;36m  Cell \u001b[1;32mIn[57], line 15\u001b[1;36m\u001b[0m\n\u001b[1;33m    \u001b[0m\n\u001b[1;37m    ^\u001b[0m\n\u001b[1;31mSyntaxError\u001b[0m\u001b[1;31m:\u001b[0m incomplete input\n"
     ]
    }
   ],
   "source": [
    "import re\n",
    "\n",
    "file_path = \"input.txt\"\n",
    "all_lines = []\n",
    "\n",
    "with open(file_path, \"r\") as file:\n",
    "    lines = file.readlines()\n",
    "    for line in lines:\n",
    "        levels = line\n",
    "        all_lines.append(levels)\n",
    "        \n",
    "for line in all_lines:\n",
    "    for i in range(len(line)):\n",
    "        if char.lower() == \"x\":\n",
    "          "
   ]
  },
  {
   "cell_type": "code",
   "execution_count": 1,
   "id": "149ee221-9bee-4edd-bbd1-5070d233fd9d",
   "metadata": {},
   "outputs": [
    {
     "name": "stdout",
     "output_type": "stream",
     "text": [
      "The word 'XMAS' appears 2613 times in the grid.\n"
     ]
    }
   ],
   "source": [
    "# Function to check if the word is found starting at (x, y) in a given direction\n",
    "def is_word_at(grid, word, x, y, dx, dy):\n",
    "    word_len = len(word)\n",
    "    rows, cols = len(grid), len(grid[0])\n",
    "    \n",
    "    for i in range(word_len):\n",
    "        nx, ny = x + i * dx, y + i * dy\n",
    "        if not (0 <= nx < rows and 0 <= ny < cols):  # Check bounds\n",
    "            return False\n",
    "        if grid[nx][ny] != word[i]:  # Check character match\n",
    "            return False\n",
    "    return True\n",
    "\n",
    "# Function to count all occurrences of the word in the grid\n",
    "def count_word_occurrences(grid, word):\n",
    "    rows, cols = len(grid), len(grid[0])\n",
    "    directions = [(0, 1), (0, -1), (1, 0), (-1, 0), (1, 1), (1, -1), (-1, 1), (-1, -1)]\n",
    "    count = 0\n",
    "    \n",
    "    for x in range(rows):\n",
    "        for y in range(cols):\n",
    "            for dx, dy in directions:\n",
    "                if is_word_at(grid, word, x, y, dx, dy):\n",
    "                    count += 1\n",
    "    return count\n",
    "\n",
    "def main(file_path):\n",
    "    all_lines = []\n",
    "    with open(file_path, \"r\") as file:\n",
    "        lines = file.readlines()\n",
    "        for line in lines:\n",
    "            levels = line.strip()\n",
    "            all_lines.append(levels)\n",
    "    \n",
    "    word = \"XMAS\"\n",
    "    total_occurrences = count_word_occurrences(all_lines, word)\n",
    "    print(f\"The word '{word}' appears {total_occurrences} times in the grid.\")\n",
    "\n",
    "if __name__ == \"__main__\":\n",
    "    file_path = \"input.txt\"\n",
    "    main(file_path)\n"
   ]
  },
  {
   "cell_type": "code",
   "execution_count": 2,
   "id": "6bc264ed-a7e2-4b31-a527-090f104f268e",
   "metadata": {},
   "outputs": [
    {
     "name": "stdout",
     "output_type": "stream",
     "text": [
      "The 'X-MAS' pattern appears 376 times in the grid.\n"
     ]
    }
   ],
   "source": [
    "# Function to check for \"X-MAS\" pattern\n",
    "def is_xmas_at(grid, x, y):\n",
    "    rows, cols = len(grid), len(grid[0])\n",
    "\n",
    "    # Define the offsets for the \"X-MAS\" pattern\n",
    "    patterns = [\n",
    "        # Standard \"X-MAS\"\n",
    "        [(0, 0), (1, -1), (2, 0), (0, 2), (1, 1), (2, 2)],\n",
    "        # Mirrored \"X-MAS\"\n",
    "        [(0, 2), (1, 1), (2, 2), (0, 0), (1, -1), (2, 0)]\n",
    "    ]\n",
    "\n",
    "    for pattern in patterns:\n",
    "        try:\n",
    "            if all(0 <= x + dx < rows and 0 <= y + dy < cols and grid[x + dx][y + dy] in \"MAS\" for dx, dy in pattern):\n",
    "                # Validate the MAS sequences\n",
    "                top_mas = [grid[x + dx][y + dy] for dx, dy in pattern[:3]]\n",
    "                bottom_mas = [grid[x + dx][y + dy] for dx, dy in pattern[3:]]\n",
    "                if \"\".join(top_mas) in {\"MAS\", \"SAM\"} and \"\".join(bottom_mas) in {\"MAS\", \"SAM\"}:\n",
    "                    return True\n",
    "        except IndexError:\n",
    "            continue\n",
    "\n",
    "    return False\n",
    "\n",
    "# Function to count all occurrences of the \"X-MAS\" pattern\n",
    "def count_xmas_occurrences(grid):\n",
    "    rows, cols = len(grid), len(grid[0])\n",
    "    count = 0\n",
    "\n",
    "    # Traverse every possible starting position\n",
    "    for x in range(rows - 2):  # Need 3 rows for \"X-MAS\"\n",
    "        for y in range(2, cols - 2):  # Need 3 columns for \"X-MAS\"\n",
    "            if is_xmas_at(grid, x, y):\n",
    "                count += 1\n",
    "\n",
    "    return count\n",
    "\n",
    "# Main function to read the file and solve the \"X-MAS\" puzzle\n",
    "def main(file_path):\n",
    "    # Read the file and process it into a grid\n",
    "    all_lines = []\n",
    "    with open(file_path, \"r\") as file:\n",
    "        lines = file.readlines()\n",
    "        for line in lines:\n",
    "            levels = line.strip()  # Remove extra spaces and newline characters\n",
    "            all_lines.append(levels)\n",
    "\n",
    "    # Count occurrences of the \"X-MAS\" pattern\n",
    "    total_occurrences = count_xmas_occurrences(all_lines)\n",
    "\n",
    "    # Print the result\n",
    "    print(f\"The 'X-MAS' pattern appears {total_occurrences} times in the grid.\")\n",
    "\n",
    "# Example usage\n",
    "if __name__ == \"__main__\":\n",
    "    file_path = \"input.txt\"  # Replace with the path to your input file\n",
    "    main(file_path)\n"
   ]
  },
  {
   "cell_type": "code",
   "execution_count": null,
   "id": "692f6676-b04d-496c-a3a7-e26d3e51da4a",
   "metadata": {},
   "outputs": [],
   "source": []
  }
 ],
 "metadata": {
  "kernelspec": {
   "display_name": "Python 3 (ipykernel)",
   "language": "python",
   "name": "python3"
  },
  "language_info": {
   "codemirror_mode": {
    "name": "ipython",
    "version": 3
   },
   "file_extension": ".py",
   "mimetype": "text/x-python",
   "name": "python",
   "nbconvert_exporter": "python",
   "pygments_lexer": "ipython3",
   "version": "3.11.7"
  }
 },
 "nbformat": 4,
 "nbformat_minor": 5
}
